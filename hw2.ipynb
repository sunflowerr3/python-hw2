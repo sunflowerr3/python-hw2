{
  "metadata": {
    "language_info": {
      "codemirror_mode": {
        "name": "python",
        "version": 3
      },
      "file_extension": ".py",
      "mimetype": "text/x-python",
      "name": "python",
      "nbconvert_exporter": "python",
      "pygments_lexer": "ipython3",
      "version": "3.8"
    },
    "kernelspec": {
      "name": "python",
      "display_name": "Python (Pyodide)",
      "language": "python"
    }
  },
  "nbformat_minor": 4,
  "nbformat": 4,
  "cells": [
    {
      "cell_type": "markdown",
      "source": "<h2>Условие 1: \n<br>1 задача</h2>\n<br>\n<b>Скачать данные по ссылке https://www.kaggle.com/datasets/shivachandel/kc-house-data \n<br>Считать данные с помощью pandas</b>",
      "metadata": {}
    },
    {
      "cell_type": "code",
      "source": "import numpy as np\nimport pandas as pd\nimport matplotlib.pyplot as plt\n%matplotlib inline",
      "metadata": {
        "trusted": true
      },
      "execution_count": 1,
      "outputs": []
    },
    {
      "cell_type": "code",
      "source": "df = pd.read_csv(r'notebooks/kc_house_data.csv', encoding='cp1251')",
      "metadata": {
        "trusted": true
      },
      "execution_count": 2,
      "outputs": []
    },
    {
      "cell_type": "code",
      "source": "df",
      "metadata": {
        "trusted": true
      },
      "execution_count": 3,
      "outputs": [
        {
          "execution_count": 3,
          "output_type": "execute_result",
          "data": {
            "text/plain": "               id             date     price  bedrooms  bathrooms  \\\n0      7129300520  20141013T000000  221900.0         3       1.00   \n1      6414100192  20141209T000000  538000.0         3       2.25   \n2      5631500400  20150225T000000  180000.0         2       1.00   \n3      2487200875  20141209T000000  604000.0         4       3.00   \n4      1954400510  20150218T000000  510000.0         3       2.00   \n...           ...              ...       ...       ...        ...   \n21608   263000018  20140521T000000  360000.0         3       2.50   \n21609  6600060120  20150223T000000  400000.0         4       2.50   \n21610  1523300141  20140623T000000  402101.0         2       0.75   \n21611   291310100  20150116T000000  400000.0         3       2.50   \n21612  1523300157  20141015T000000  325000.0         2       0.75   \n\n       sqft_living  sqft_lot  floors  waterfront  view  ...  grade  \\\n0             1180      5650     1.0           0     0  ...      7   \n1             2570      7242     2.0           0     0  ...      7   \n2              770     10000     1.0           0     0  ...      6   \n3             1960      5000     1.0           0     0  ...      7   \n4             1680      8080     1.0           0     0  ...      8   \n...            ...       ...     ...         ...   ...  ...    ...   \n21608         1530      1131     3.0           0     0  ...      8   \n21609         2310      5813     2.0           0     0  ...      8   \n21610         1020      1350     2.0           0     0  ...      7   \n21611         1600      2388     2.0           0     0  ...      8   \n21612         1020      1076     2.0           0     0  ...      7   \n\n       sqft_above  sqft_basement  yr_built  yr_renovated  zipcode      lat  \\\n0          1180.0              0      1955             0    98178  47.5112   \n1          2170.0            400      1951          1991    98125  47.7210   \n2           770.0              0      1933             0    98028  47.7379   \n3          1050.0            910      1965             0    98136  47.5208   \n4          1680.0              0      1987             0    98074  47.6168   \n...           ...            ...       ...           ...      ...      ...   \n21608      1530.0              0      2009             0    98103  47.6993   \n21609      2310.0              0      2014             0    98146  47.5107   \n21610      1020.0              0      2009             0    98144  47.5944   \n21611      1600.0              0      2004             0    98027  47.5345   \n21612      1020.0              0      2008             0    98144  47.5941   \n\n          long  sqft_living15  sqft_lot15  \n0     -122.257           1340        5650  \n1     -122.319           1690        7639  \n2     -122.233           2720        8062  \n3     -122.393           1360        5000  \n4     -122.045           1800        7503  \n...        ...            ...         ...  \n21608 -122.346           1530        1509  \n21609 -122.362           1830        7200  \n21610 -122.299           1020        2007  \n21611 -122.069           1410        1287  \n21612 -122.299           1020        1357  \n\n[21613 rows x 21 columns]",
            "text/html": "<div>\n<style scoped>\n    .dataframe tbody tr th:only-of-type {\n        vertical-align: middle;\n    }\n\n    .dataframe tbody tr th {\n        vertical-align: top;\n    }\n\n    .dataframe thead th {\n        text-align: right;\n    }\n</style>\n<table border=\"1\" class=\"dataframe\">\n  <thead>\n    <tr style=\"text-align: right;\">\n      <th></th>\n      <th>id</th>\n      <th>date</th>\n      <th>price</th>\n      <th>bedrooms</th>\n      <th>bathrooms</th>\n      <th>sqft_living</th>\n      <th>sqft_lot</th>\n      <th>floors</th>\n      <th>waterfront</th>\n      <th>view</th>\n      <th>...</th>\n      <th>grade</th>\n      <th>sqft_above</th>\n      <th>sqft_basement</th>\n      <th>yr_built</th>\n      <th>yr_renovated</th>\n      <th>zipcode</th>\n      <th>lat</th>\n      <th>long</th>\n      <th>sqft_living15</th>\n      <th>sqft_lot15</th>\n    </tr>\n  </thead>\n  <tbody>\n    <tr>\n      <th>0</th>\n      <td>7129300520</td>\n      <td>20141013T000000</td>\n      <td>221900.0</td>\n      <td>3</td>\n      <td>1.00</td>\n      <td>1180</td>\n      <td>5650</td>\n      <td>1.0</td>\n      <td>0</td>\n      <td>0</td>\n      <td>...</td>\n      <td>7</td>\n      <td>1180.0</td>\n      <td>0</td>\n      <td>1955</td>\n      <td>0</td>\n      <td>98178</td>\n      <td>47.5112</td>\n      <td>-122.257</td>\n      <td>1340</td>\n      <td>5650</td>\n    </tr>\n    <tr>\n      <th>1</th>\n      <td>6414100192</td>\n      <td>20141209T000000</td>\n      <td>538000.0</td>\n      <td>3</td>\n      <td>2.25</td>\n      <td>2570</td>\n      <td>7242</td>\n      <td>2.0</td>\n      <td>0</td>\n      <td>0</td>\n      <td>...</td>\n      <td>7</td>\n      <td>2170.0</td>\n      <td>400</td>\n      <td>1951</td>\n      <td>1991</td>\n      <td>98125</td>\n      <td>47.7210</td>\n      <td>-122.319</td>\n      <td>1690</td>\n      <td>7639</td>\n    </tr>\n    <tr>\n      <th>2</th>\n      <td>5631500400</td>\n      <td>20150225T000000</td>\n      <td>180000.0</td>\n      <td>2</td>\n      <td>1.00</td>\n      <td>770</td>\n      <td>10000</td>\n      <td>1.0</td>\n      <td>0</td>\n      <td>0</td>\n      <td>...</td>\n      <td>6</td>\n      <td>770.0</td>\n      <td>0</td>\n      <td>1933</td>\n      <td>0</td>\n      <td>98028</td>\n      <td>47.7379</td>\n      <td>-122.233</td>\n      <td>2720</td>\n      <td>8062</td>\n    </tr>\n    <tr>\n      <th>3</th>\n      <td>2487200875</td>\n      <td>20141209T000000</td>\n      <td>604000.0</td>\n      <td>4</td>\n      <td>3.00</td>\n      <td>1960</td>\n      <td>5000</td>\n      <td>1.0</td>\n      <td>0</td>\n      <td>0</td>\n      <td>...</td>\n      <td>7</td>\n      <td>1050.0</td>\n      <td>910</td>\n      <td>1965</td>\n      <td>0</td>\n      <td>98136</td>\n      <td>47.5208</td>\n      <td>-122.393</td>\n      <td>1360</td>\n      <td>5000</td>\n    </tr>\n    <tr>\n      <th>4</th>\n      <td>1954400510</td>\n      <td>20150218T000000</td>\n      <td>510000.0</td>\n      <td>3</td>\n      <td>2.00</td>\n      <td>1680</td>\n      <td>8080</td>\n      <td>1.0</td>\n      <td>0</td>\n      <td>0</td>\n      <td>...</td>\n      <td>8</td>\n      <td>1680.0</td>\n      <td>0</td>\n      <td>1987</td>\n      <td>0</td>\n      <td>98074</td>\n      <td>47.6168</td>\n      <td>-122.045</td>\n      <td>1800</td>\n      <td>7503</td>\n    </tr>\n    <tr>\n      <th>...</th>\n      <td>...</td>\n      <td>...</td>\n      <td>...</td>\n      <td>...</td>\n      <td>...</td>\n      <td>...</td>\n      <td>...</td>\n      <td>...</td>\n      <td>...</td>\n      <td>...</td>\n      <td>...</td>\n      <td>...</td>\n      <td>...</td>\n      <td>...</td>\n      <td>...</td>\n      <td>...</td>\n      <td>...</td>\n      <td>...</td>\n      <td>...</td>\n      <td>...</td>\n      <td>...</td>\n    </tr>\n    <tr>\n      <th>21608</th>\n      <td>263000018</td>\n      <td>20140521T000000</td>\n      <td>360000.0</td>\n      <td>3</td>\n      <td>2.50</td>\n      <td>1530</td>\n      <td>1131</td>\n      <td>3.0</td>\n      <td>0</td>\n      <td>0</td>\n      <td>...</td>\n      <td>8</td>\n      <td>1530.0</td>\n      <td>0</td>\n      <td>2009</td>\n      <td>0</td>\n      <td>98103</td>\n      <td>47.6993</td>\n      <td>-122.346</td>\n      <td>1530</td>\n      <td>1509</td>\n    </tr>\n    <tr>\n      <th>21609</th>\n      <td>6600060120</td>\n      <td>20150223T000000</td>\n      <td>400000.0</td>\n      <td>4</td>\n      <td>2.50</td>\n      <td>2310</td>\n      <td>5813</td>\n      <td>2.0</td>\n      <td>0</td>\n      <td>0</td>\n      <td>...</td>\n      <td>8</td>\n      <td>2310.0</td>\n      <td>0</td>\n      <td>2014</td>\n      <td>0</td>\n      <td>98146</td>\n      <td>47.5107</td>\n      <td>-122.362</td>\n      <td>1830</td>\n      <td>7200</td>\n    </tr>\n    <tr>\n      <th>21610</th>\n      <td>1523300141</td>\n      <td>20140623T000000</td>\n      <td>402101.0</td>\n      <td>2</td>\n      <td>0.75</td>\n      <td>1020</td>\n      <td>1350</td>\n      <td>2.0</td>\n      <td>0</td>\n      <td>0</td>\n      <td>...</td>\n      <td>7</td>\n      <td>1020.0</td>\n      <td>0</td>\n      <td>2009</td>\n      <td>0</td>\n      <td>98144</td>\n      <td>47.5944</td>\n      <td>-122.299</td>\n      <td>1020</td>\n      <td>2007</td>\n    </tr>\n    <tr>\n      <th>21611</th>\n      <td>291310100</td>\n      <td>20150116T000000</td>\n      <td>400000.0</td>\n      <td>3</td>\n      <td>2.50</td>\n      <td>1600</td>\n      <td>2388</td>\n      <td>2.0</td>\n      <td>0</td>\n      <td>0</td>\n      <td>...</td>\n      <td>8</td>\n      <td>1600.0</td>\n      <td>0</td>\n      <td>2004</td>\n      <td>0</td>\n      <td>98027</td>\n      <td>47.5345</td>\n      <td>-122.069</td>\n      <td>1410</td>\n      <td>1287</td>\n    </tr>\n    <tr>\n      <th>21612</th>\n      <td>1523300157</td>\n      <td>20141015T000000</td>\n      <td>325000.0</td>\n      <td>2</td>\n      <td>0.75</td>\n      <td>1020</td>\n      <td>1076</td>\n      <td>2.0</td>\n      <td>0</td>\n      <td>0</td>\n      <td>...</td>\n      <td>7</td>\n      <td>1020.0</td>\n      <td>0</td>\n      <td>2008</td>\n      <td>0</td>\n      <td>98144</td>\n      <td>47.5941</td>\n      <td>-122.299</td>\n      <td>1020</td>\n      <td>1357</td>\n    </tr>\n  </tbody>\n</table>\n<p>21613 rows × 21 columns</p>\n</div>"
          },
          "metadata": {}
        }
      ]
    },
    {
      "cell_type": "markdown",
      "source": "<b>Вывести на экран первые 5 строк</b>",
      "metadata": {}
    },
    {
      "cell_type": "code",
      "source": "df.head()",
      "metadata": {
        "trusted": true
      },
      "execution_count": 4,
      "outputs": [
        {
          "execution_count": 4,
          "output_type": "execute_result",
          "data": {
            "text/plain": "           id             date     price  bedrooms  bathrooms  sqft_living  \\\n0  7129300520  20141013T000000  221900.0         3       1.00         1180   \n1  6414100192  20141209T000000  538000.0         3       2.25         2570   \n2  5631500400  20150225T000000  180000.0         2       1.00          770   \n3  2487200875  20141209T000000  604000.0         4       3.00         1960   \n4  1954400510  20150218T000000  510000.0         3       2.00         1680   \n\n   sqft_lot  floors  waterfront  view  ...  grade  sqft_above  sqft_basement  \\\n0      5650     1.0           0     0  ...      7      1180.0              0   \n1      7242     2.0           0     0  ...      7      2170.0            400   \n2     10000     1.0           0     0  ...      6       770.0              0   \n3      5000     1.0           0     0  ...      7      1050.0            910   \n4      8080     1.0           0     0  ...      8      1680.0              0   \n\n   yr_built  yr_renovated  zipcode      lat     long  sqft_living15  \\\n0      1955             0    98178  47.5112 -122.257           1340   \n1      1951          1991    98125  47.7210 -122.319           1690   \n2      1933             0    98028  47.7379 -122.233           2720   \n3      1965             0    98136  47.5208 -122.393           1360   \n4      1987             0    98074  47.6168 -122.045           1800   \n\n   sqft_lot15  \n0        5650  \n1        7639  \n2        8062  \n3        5000  \n4        7503  \n\n[5 rows x 21 columns]",
            "text/html": "<div>\n<style scoped>\n    .dataframe tbody tr th:only-of-type {\n        vertical-align: middle;\n    }\n\n    .dataframe tbody tr th {\n        vertical-align: top;\n    }\n\n    .dataframe thead th {\n        text-align: right;\n    }\n</style>\n<table border=\"1\" class=\"dataframe\">\n  <thead>\n    <tr style=\"text-align: right;\">\n      <th></th>\n      <th>id</th>\n      <th>date</th>\n      <th>price</th>\n      <th>bedrooms</th>\n      <th>bathrooms</th>\n      <th>sqft_living</th>\n      <th>sqft_lot</th>\n      <th>floors</th>\n      <th>waterfront</th>\n      <th>view</th>\n      <th>...</th>\n      <th>grade</th>\n      <th>sqft_above</th>\n      <th>sqft_basement</th>\n      <th>yr_built</th>\n      <th>yr_renovated</th>\n      <th>zipcode</th>\n      <th>lat</th>\n      <th>long</th>\n      <th>sqft_living15</th>\n      <th>sqft_lot15</th>\n    </tr>\n  </thead>\n  <tbody>\n    <tr>\n      <th>0</th>\n      <td>7129300520</td>\n      <td>20141013T000000</td>\n      <td>221900.0</td>\n      <td>3</td>\n      <td>1.00</td>\n      <td>1180</td>\n      <td>5650</td>\n      <td>1.0</td>\n      <td>0</td>\n      <td>0</td>\n      <td>...</td>\n      <td>7</td>\n      <td>1180.0</td>\n      <td>0</td>\n      <td>1955</td>\n      <td>0</td>\n      <td>98178</td>\n      <td>47.5112</td>\n      <td>-122.257</td>\n      <td>1340</td>\n      <td>5650</td>\n    </tr>\n    <tr>\n      <th>1</th>\n      <td>6414100192</td>\n      <td>20141209T000000</td>\n      <td>538000.0</td>\n      <td>3</td>\n      <td>2.25</td>\n      <td>2570</td>\n      <td>7242</td>\n      <td>2.0</td>\n      <td>0</td>\n      <td>0</td>\n      <td>...</td>\n      <td>7</td>\n      <td>2170.0</td>\n      <td>400</td>\n      <td>1951</td>\n      <td>1991</td>\n      <td>98125</td>\n      <td>47.7210</td>\n      <td>-122.319</td>\n      <td>1690</td>\n      <td>7639</td>\n    </tr>\n    <tr>\n      <th>2</th>\n      <td>5631500400</td>\n      <td>20150225T000000</td>\n      <td>180000.0</td>\n      <td>2</td>\n      <td>1.00</td>\n      <td>770</td>\n      <td>10000</td>\n      <td>1.0</td>\n      <td>0</td>\n      <td>0</td>\n      <td>...</td>\n      <td>6</td>\n      <td>770.0</td>\n      <td>0</td>\n      <td>1933</td>\n      <td>0</td>\n      <td>98028</td>\n      <td>47.7379</td>\n      <td>-122.233</td>\n      <td>2720</td>\n      <td>8062</td>\n    </tr>\n    <tr>\n      <th>3</th>\n      <td>2487200875</td>\n      <td>20141209T000000</td>\n      <td>604000.0</td>\n      <td>4</td>\n      <td>3.00</td>\n      <td>1960</td>\n      <td>5000</td>\n      <td>1.0</td>\n      <td>0</td>\n      <td>0</td>\n      <td>...</td>\n      <td>7</td>\n      <td>1050.0</td>\n      <td>910</td>\n      <td>1965</td>\n      <td>0</td>\n      <td>98136</td>\n      <td>47.5208</td>\n      <td>-122.393</td>\n      <td>1360</td>\n      <td>5000</td>\n    </tr>\n    <tr>\n      <th>4</th>\n      <td>1954400510</td>\n      <td>20150218T000000</td>\n      <td>510000.0</td>\n      <td>3</td>\n      <td>2.00</td>\n      <td>1680</td>\n      <td>8080</td>\n      <td>1.0</td>\n      <td>0</td>\n      <td>0</td>\n      <td>...</td>\n      <td>8</td>\n      <td>1680.0</td>\n      <td>0</td>\n      <td>1987</td>\n      <td>0</td>\n      <td>98074</td>\n      <td>47.6168</td>\n      <td>-122.045</td>\n      <td>1800</td>\n      <td>7503</td>\n    </tr>\n  </tbody>\n</table>\n<p>5 rows × 21 columns</p>\n</div>"
          },
          "metadata": {}
        }
      ]
    },
    {
      "cell_type": "markdown",
      "source": "<b>Посмотреть на описание признаков и на их содержание</b>",
      "metadata": {}
    },
    {
      "cell_type": "code",
      "source": "df.info()",
      "metadata": {
        "trusted": true
      },
      "execution_count": 5,
      "outputs": [
        {
          "name": "stdout",
          "text": "<class 'pandas.core.frame.DataFrame'>\nRangeIndex: 21613 entries, 0 to 21612\nData columns (total 21 columns):\n #   Column         Non-Null Count  Dtype  \n---  ------         --------------  -----  \n 0   id             21613 non-null  int64  \n 1   date           21613 non-null  object \n 2   price          21613 non-null  float64\n 3   bedrooms       21613 non-null  int64  \n 4   bathrooms      21613 non-null  float64\n 5   sqft_living    21613 non-null  int64  \n 6   sqft_lot       21613 non-null  int64  \n 7   floors         21613 non-null  float64\n 8   waterfront     21613 non-null  int64  \n 9   view           21613 non-null  int64  \n 10  condition      21613 non-null  int64  \n 11  grade          21613 non-null  int64  \n 12  sqft_above     21611 non-null  float64\n 13  sqft_basement  21613 non-null  int64  \n 14  yr_built       21613 non-null  int64  \n 15  yr_renovated   21613 non-null  int64  \n 16  zipcode        21613 non-null  int64  \n 17  lat            21613 non-null  float64\n 18  long           21613 non-null  float64\n 19  sqft_living15  21613 non-null  int64  \n 20  sqft_lot15     21613 non-null  int64  \ndtypes: float64(6), int64(14), object(1)\nmemory usage: 3.4+ MB\n",
          "output_type": "stream"
        }
      ]
    },
    {
      "cell_type": "markdown",
      "source": "<h2>Условие 2: \n<br>2 задача</h2>\n<br>\n<b>Проведите первичный анализ данных \n<br>Изучите типы данных</b>",
      "metadata": {}
    },
    {
      "cell_type": "code",
      "source": "df.describe()",
      "metadata": {
        "trusted": true
      },
      "execution_count": 6,
      "outputs": [
        {
          "execution_count": 6,
          "output_type": "execute_result",
          "data": {
            "text/plain": "                 id         price      bedrooms     bathrooms   sqft_living  \\\ncount  2.161300e+04  2.161300e+04  21613.000000  21613.000000  21613.000000   \nmean   4.580302e+09  5.400881e+05      3.370842      2.114757   2079.899736   \nstd    2.876566e+09  3.671272e+05      0.930062      0.770163    918.440897   \nmin    1.000102e+06  7.500000e+04      0.000000      0.000000    290.000000   \n25%    2.123049e+09  3.219500e+05      3.000000      1.750000   1427.000000   \n50%    3.904930e+09  4.500000e+05      3.000000      2.250000   1910.000000   \n75%    7.308900e+09  6.450000e+05      4.000000      2.500000   2550.000000   \nmax    9.900000e+09  7.700000e+06     33.000000      8.000000  13540.000000   \n\n           sqft_lot        floors    waterfront          view     condition  \\\ncount  2.161300e+04  21613.000000  21613.000000  21613.000000  21613.000000   \nmean   1.510697e+04      1.494309      0.007542      0.234303      3.409430   \nstd    4.142051e+04      0.539989      0.086517      0.766318      0.650743   \nmin    5.200000e+02      1.000000      0.000000      0.000000      1.000000   \n25%    5.040000e+03      1.000000      0.000000      0.000000      3.000000   \n50%    7.618000e+03      1.500000      0.000000      0.000000      3.000000   \n75%    1.068800e+04      2.000000      0.000000      0.000000      4.000000   \nmax    1.651359e+06      3.500000      1.000000      4.000000      5.000000   \n\n              grade    sqft_above  sqft_basement      yr_built  yr_renovated  \\\ncount  21613.000000  21611.000000   21613.000000  21613.000000  21613.000000   \nmean       7.656873   1788.396095     291.509045   1971.005136     84.402258   \nstd        1.175459    828.128162     442.575043     29.373411    401.679240   \nmin        1.000000    290.000000       0.000000   1900.000000      0.000000   \n25%        7.000000   1190.000000       0.000000   1951.000000      0.000000   \n50%        7.000000   1560.000000       0.000000   1975.000000      0.000000   \n75%        8.000000   2210.000000     560.000000   1997.000000      0.000000   \nmax       13.000000   9410.000000    4820.000000   2015.000000   2015.000000   \n\n            zipcode           lat          long  sqft_living15     sqft_lot15  \ncount  21613.000000  21613.000000  21613.000000   21613.000000   21613.000000  \nmean   98077.939805     47.560053   -122.213896    1986.552492   12768.455652  \nstd       53.505026      0.138564      0.140828     685.391304   27304.179631  \nmin    98001.000000     47.155900   -122.519000     399.000000     651.000000  \n25%    98033.000000     47.471000   -122.328000    1490.000000    5100.000000  \n50%    98065.000000     47.571800   -122.230000    1840.000000    7620.000000  \n75%    98118.000000     47.678000   -122.125000    2360.000000   10083.000000  \nmax    98199.000000     47.777600   -121.315000    6210.000000  871200.000000  ",
            "text/html": "<div>\n<style scoped>\n    .dataframe tbody tr th:only-of-type {\n        vertical-align: middle;\n    }\n\n    .dataframe tbody tr th {\n        vertical-align: top;\n    }\n\n    .dataframe thead th {\n        text-align: right;\n    }\n</style>\n<table border=\"1\" class=\"dataframe\">\n  <thead>\n    <tr style=\"text-align: right;\">\n      <th></th>\n      <th>id</th>\n      <th>price</th>\n      <th>bedrooms</th>\n      <th>bathrooms</th>\n      <th>sqft_living</th>\n      <th>sqft_lot</th>\n      <th>floors</th>\n      <th>waterfront</th>\n      <th>view</th>\n      <th>condition</th>\n      <th>grade</th>\n      <th>sqft_above</th>\n      <th>sqft_basement</th>\n      <th>yr_built</th>\n      <th>yr_renovated</th>\n      <th>zipcode</th>\n      <th>lat</th>\n      <th>long</th>\n      <th>sqft_living15</th>\n      <th>sqft_lot15</th>\n    </tr>\n  </thead>\n  <tbody>\n    <tr>\n      <th>count</th>\n      <td>2.161300e+04</td>\n      <td>2.161300e+04</td>\n      <td>21613.000000</td>\n      <td>21613.000000</td>\n      <td>21613.000000</td>\n      <td>2.161300e+04</td>\n      <td>21613.000000</td>\n      <td>21613.000000</td>\n      <td>21613.000000</td>\n      <td>21613.000000</td>\n      <td>21613.000000</td>\n      <td>21611.000000</td>\n      <td>21613.000000</td>\n      <td>21613.000000</td>\n      <td>21613.000000</td>\n      <td>21613.000000</td>\n      <td>21613.000000</td>\n      <td>21613.000000</td>\n      <td>21613.000000</td>\n      <td>21613.000000</td>\n    </tr>\n    <tr>\n      <th>mean</th>\n      <td>4.580302e+09</td>\n      <td>5.400881e+05</td>\n      <td>3.370842</td>\n      <td>2.114757</td>\n      <td>2079.899736</td>\n      <td>1.510697e+04</td>\n      <td>1.494309</td>\n      <td>0.007542</td>\n      <td>0.234303</td>\n      <td>3.409430</td>\n      <td>7.656873</td>\n      <td>1788.396095</td>\n      <td>291.509045</td>\n      <td>1971.005136</td>\n      <td>84.402258</td>\n      <td>98077.939805</td>\n      <td>47.560053</td>\n      <td>-122.213896</td>\n      <td>1986.552492</td>\n      <td>12768.455652</td>\n    </tr>\n    <tr>\n      <th>std</th>\n      <td>2.876566e+09</td>\n      <td>3.671272e+05</td>\n      <td>0.930062</td>\n      <td>0.770163</td>\n      <td>918.440897</td>\n      <td>4.142051e+04</td>\n      <td>0.539989</td>\n      <td>0.086517</td>\n      <td>0.766318</td>\n      <td>0.650743</td>\n      <td>1.175459</td>\n      <td>828.128162</td>\n      <td>442.575043</td>\n      <td>29.373411</td>\n      <td>401.679240</td>\n      <td>53.505026</td>\n      <td>0.138564</td>\n      <td>0.140828</td>\n      <td>685.391304</td>\n      <td>27304.179631</td>\n    </tr>\n    <tr>\n      <th>min</th>\n      <td>1.000102e+06</td>\n      <td>7.500000e+04</td>\n      <td>0.000000</td>\n      <td>0.000000</td>\n      <td>290.000000</td>\n      <td>5.200000e+02</td>\n      <td>1.000000</td>\n      <td>0.000000</td>\n      <td>0.000000</td>\n      <td>1.000000</td>\n      <td>1.000000</td>\n      <td>290.000000</td>\n      <td>0.000000</td>\n      <td>1900.000000</td>\n      <td>0.000000</td>\n      <td>98001.000000</td>\n      <td>47.155900</td>\n      <td>-122.519000</td>\n      <td>399.000000</td>\n      <td>651.000000</td>\n    </tr>\n    <tr>\n      <th>25%</th>\n      <td>2.123049e+09</td>\n      <td>3.219500e+05</td>\n      <td>3.000000</td>\n      <td>1.750000</td>\n      <td>1427.000000</td>\n      <td>5.040000e+03</td>\n      <td>1.000000</td>\n      <td>0.000000</td>\n      <td>0.000000</td>\n      <td>3.000000</td>\n      <td>7.000000</td>\n      <td>1190.000000</td>\n      <td>0.000000</td>\n      <td>1951.000000</td>\n      <td>0.000000</td>\n      <td>98033.000000</td>\n      <td>47.471000</td>\n      <td>-122.328000</td>\n      <td>1490.000000</td>\n      <td>5100.000000</td>\n    </tr>\n    <tr>\n      <th>50%</th>\n      <td>3.904930e+09</td>\n      <td>4.500000e+05</td>\n      <td>3.000000</td>\n      <td>2.250000</td>\n      <td>1910.000000</td>\n      <td>7.618000e+03</td>\n      <td>1.500000</td>\n      <td>0.000000</td>\n      <td>0.000000</td>\n      <td>3.000000</td>\n      <td>7.000000</td>\n      <td>1560.000000</td>\n      <td>0.000000</td>\n      <td>1975.000000</td>\n      <td>0.000000</td>\n      <td>98065.000000</td>\n      <td>47.571800</td>\n      <td>-122.230000</td>\n      <td>1840.000000</td>\n      <td>7620.000000</td>\n    </tr>\n    <tr>\n      <th>75%</th>\n      <td>7.308900e+09</td>\n      <td>6.450000e+05</td>\n      <td>4.000000</td>\n      <td>2.500000</td>\n      <td>2550.000000</td>\n      <td>1.068800e+04</td>\n      <td>2.000000</td>\n      <td>0.000000</td>\n      <td>0.000000</td>\n      <td>4.000000</td>\n      <td>8.000000</td>\n      <td>2210.000000</td>\n      <td>560.000000</td>\n      <td>1997.000000</td>\n      <td>0.000000</td>\n      <td>98118.000000</td>\n      <td>47.678000</td>\n      <td>-122.125000</td>\n      <td>2360.000000</td>\n      <td>10083.000000</td>\n    </tr>\n    <tr>\n      <th>max</th>\n      <td>9.900000e+09</td>\n      <td>7.700000e+06</td>\n      <td>33.000000</td>\n      <td>8.000000</td>\n      <td>13540.000000</td>\n      <td>1.651359e+06</td>\n      <td>3.500000</td>\n      <td>1.000000</td>\n      <td>4.000000</td>\n      <td>5.000000</td>\n      <td>13.000000</td>\n      <td>9410.000000</td>\n      <td>4820.000000</td>\n      <td>2015.000000</td>\n      <td>2015.000000</td>\n      <td>98199.000000</td>\n      <td>47.777600</td>\n      <td>-121.315000</td>\n      <td>6210.000000</td>\n      <td>871200.000000</td>\n    </tr>\n  </tbody>\n</table>\n</div>"
          },
          "metadata": {}
        }
      ]
    },
    {
      "cell_type": "markdown",
      "source": "<b>Найдите количество пропущенных ячеек в данных</b>",
      "metadata": {}
    },
    {
      "cell_type": "code",
      "source": "df.isnull().sum().sum ()",
      "metadata": {
        "trusted": true
      },
      "execution_count": 7,
      "outputs": [
        {
          "execution_count": 7,
          "output_type": "execute_result",
          "data": {
            "text/plain": "2"
          },
          "metadata": {}
        }
      ]
    },
    {
      "cell_type": "markdown",
      "source": "<b>Посчитайте основные статистики по всем признакам и поизучайте их</b>",
      "metadata": {}
    },
    {
      "cell_type": "markdown",
      "source": "Медианная цена",
      "metadata": {}
    },
    {
      "cell_type": "code",
      "source": "df['price'].median()",
      "metadata": {
        "trusted": true
      },
      "execution_count": 8,
      "outputs": [
        {
          "execution_count": 8,
          "output_type": "execute_result",
          "data": {
            "text/plain": "450000.0"
          },
          "metadata": {}
        }
      ]
    },
    {
      "cell_type": "markdown",
      "source": "Средняя цена",
      "metadata": {}
    },
    {
      "cell_type": "code",
      "source": "print(sum(df['price'])/len(df['price']))",
      "metadata": {
        "trusted": true
      },
      "execution_count": 9,
      "outputs": [
        {
          "name": "stdout",
          "text": "540088.1417665294\n",
          "output_type": "stream"
        }
      ]
    },
    {
      "cell_type": "markdown",
      "source": "Медианный метраж",
      "metadata": {}
    },
    {
      "cell_type": "code",
      "source": "df['sqft_living'].median()",
      "metadata": {
        "trusted": true
      },
      "execution_count": 10,
      "outputs": [
        {
          "execution_count": 10,
          "output_type": "execute_result",
          "data": {
            "text/plain": "1910.0"
          },
          "metadata": {}
        }
      ]
    },
    {
      "cell_type": "markdown",
      "source": "Средний метраж",
      "metadata": {}
    },
    {
      "cell_type": "code",
      "source": "print(sum(df['sqft_living'])/len(df['sqft_living']))",
      "metadata": {
        "trusted": true
      },
      "execution_count": 11,
      "outputs": [
        {
          "name": "stdout",
          "text": "2079.8997362698374\n",
          "output_type": "stream"
        }
      ]
    },
    {
      "cell_type": "markdown",
      "source": "Диапазон метража",
      "metadata": {}
    },
    {
      "cell_type": "code",
      "source": "df['sqft_living'].min(), df['sqft_living'].max()",
      "metadata": {
        "trusted": true
      },
      "execution_count": 12,
      "outputs": [
        {
          "execution_count": 12,
          "output_type": "execute_result",
          "data": {
            "text/plain": "(290, 13540)"
          },
          "metadata": {}
        }
      ]
    },
    {
      "cell_type": "markdown",
      "source": "Доля домов с метражом выше среднего",
      "metadata": {}
    },
    {
      "cell_type": "code",
      "source": "(df[((df['sqft_living']) >= (sum(df['sqft_living'])/len(df['sqft_living'])))].shape[0])/(len(df['sqft_living'])) * 100, \"%\"",
      "metadata": {
        "trusted": true
      },
      "execution_count": 13,
      "outputs": [
        {
          "execution_count": 13,
          "output_type": "execute_result",
          "data": {
            "text/plain": "(42.752047378892335, '%')"
          },
          "metadata": {}
        }
      ]
    },
    {
      "cell_type": "markdown",
      "source": "Диапазон этажей",
      "metadata": {}
    },
    {
      "cell_type": "code",
      "source": "df['floors'].min(), df['floors'].max()",
      "metadata": {
        "trusted": true
      },
      "execution_count": 14,
      "outputs": [
        {
          "execution_count": 14,
          "output_type": "execute_result",
          "data": {
            "text/plain": "(1.0, 3.5)"
          },
          "metadata": {}
        }
      ]
    },
    {
      "cell_type": "markdown",
      "source": "Диапазон лет постройки",
      "metadata": {}
    },
    {
      "cell_type": "code",
      "source": "df['yr_built'].min(), df['yr_built'].max()",
      "metadata": {
        "trusted": true
      },
      "execution_count": 15,
      "outputs": [
        {
          "execution_count": 15,
          "output_type": "execute_result",
          "data": {
            "text/plain": "(1900, 2015)"
          },
          "metadata": {}
        }
      ]
    },
    {
      "cell_type": "markdown",
      "source": "Диапазон лет реновации",
      "metadata": {}
    },
    {
      "cell_type": "code",
      "source": "df['yr_renovated'].min(), df['yr_renovated'].max()",
      "metadata": {
        "trusted": true
      },
      "execution_count": 16,
      "outputs": [
        {
          "execution_count": 16,
          "output_type": "execute_result",
          "data": {
            "text/plain": "(0, 2015)"
          },
          "metadata": {}
        }
      ]
    },
    {
      "cell_type": "markdown",
      "source": "В скольких домах есть выход на море",
      "metadata": {}
    },
    {
      "cell_type": "code",
      "source": "df[(df['waterfront'] != 0)].shape[0]",
      "metadata": {
        "trusted": true
      },
      "execution_count": 17,
      "outputs": [
        {
          "execution_count": 17,
          "output_type": "execute_result",
          "data": {
            "text/plain": "163"
          },
          "metadata": {}
        }
      ]
    },
    {
      "cell_type": "markdown",
      "source": "Доля домов с выходом к морю",
      "metadata": {}
    },
    {
      "cell_type": "code",
      "source": "(df[(df['waterfront'] != 0)].shape[0])/(len(df['waterfront'])) * 100, \"%\"",
      "metadata": {
        "trusted": true
      },
      "execution_count": 18,
      "outputs": [
        {
          "execution_count": 18,
          "output_type": "execute_result",
          "data": {
            "text/plain": "(0.7541757275713691, '%')"
          },
          "metadata": {}
        }
      ]
    },
    {
      "cell_type": "markdown",
      "source": "В скольких домах есть красивый вид из окна",
      "metadata": {}
    },
    {
      "cell_type": "code",
      "source": "df[(df['view'] != 0)].shape[0]",
      "metadata": {
        "trusted": true
      },
      "execution_count": 19,
      "outputs": [
        {
          "execution_count": 19,
          "output_type": "execute_result",
          "data": {
            "text/plain": "2124"
          },
          "metadata": {}
        }
      ]
    },
    {
      "cell_type": "markdown",
      "source": "Доля домов с красивым видом",
      "metadata": {}
    },
    {
      "cell_type": "code",
      "source": "(df[(df['view'] != 0)].shape[0])/(len(df['view'])) * 100, \"%\"",
      "metadata": {
        "trusted": true
      },
      "execution_count": 20,
      "outputs": [
        {
          "execution_count": 20,
          "output_type": "execute_result",
          "data": {
            "text/plain": "(9.827418683199927, '%')"
          },
          "metadata": {}
        }
      ]
    },
    {
      "cell_type": "markdown",
      "source": "Диапазон количества спален",
      "metadata": {}
    },
    {
      "cell_type": "code",
      "source": "df['bedrooms'].min(), df['bedrooms'].max()",
      "metadata": {
        "trusted": true
      },
      "execution_count": 21,
      "outputs": [
        {
          "execution_count": 21,
          "output_type": "execute_result",
          "data": {
            "text/plain": "(0, 33)"
          },
          "metadata": {}
        }
      ]
    },
    {
      "cell_type": "markdown",
      "source": "Диапазон количества ванных комнат",
      "metadata": {}
    },
    {
      "cell_type": "code",
      "source": "df['bathrooms'].min(), df['bathrooms'].max()",
      "metadata": {
        "trusted": true
      },
      "execution_count": 22,
      "outputs": [
        {
          "execution_count": 22,
          "output_type": "execute_result",
          "data": {
            "text/plain": "(0.0, 8.0)"
          },
          "metadata": {}
        }
      ]
    },
    {
      "cell_type": "code",
      "source": "plt.scatter(df.price, df.sqft_living)\nplt.xlabel(\"Цена\")\nplt.ylabel(\"Площадь\")\nplt.title(\"Влияет ли цена на жилую площадь дома?\")\n#matplotlib.collections.PathColection at 0x1c1ec214630",
      "metadata": {
        "trusted": true
      },
      "execution_count": 23,
      "outputs": [
        {
          "execution_count": 23,
          "output_type": "execute_result",
          "data": {
            "text/plain": "Text(0.5, 1.0, 'Влияет ли цена на жилую площадь дома?')"
          },
          "metadata": {}
        },
        {
          "output_type": "display_data",
          "data": {
            "text/plain": "<Figure size 640x480 with 1 Axes>",
            "image/png": "[encoded data removed]"
          },
          "metadata": {}
        }
      ]
    },
    {
      "cell_type": "markdown",
      "source": "<b>Пишите выводы</b>",
      "metadata": {}
    },
    {
      "cell_type": "markdown",
      "source": "Медианная цена на дома ниже средней, а это значит, что в основном продаются относительно дешевые дома (дешевле средней цены). \nОбоснование такой средней цены можно увидеть из доли домов с красивым видом из окна или выходом к морю от общего количества, а так же доли домов с метражом выше среднего.",
      "metadata": {}
    },
    {
      "cell_type": "markdown",
      "source": "<h2>Условие 3: \n<br>3 задача</h2>\n<br>\n<b>Ответьте на несколько вопросов \n<br>3.1 В каком диапазоне изменяются стоимости недвижимости?</b>",
      "metadata": {}
    },
    {
      "cell_type": "code",
      "source": "df['price'].min(), df['price'].max()",
      "metadata": {
        "trusted": true
      },
      "execution_count": 24,
      "outputs": [
        {
          "execution_count": 24,
          "output_type": "execute_result",
          "data": {
            "text/plain": "(75000.0, 7700000.0)"
          },
          "metadata": {}
        }
      ]
    },
    {
      "cell_type": "markdown",
      "source": "<b>3.2 Какую долю в среднем занимают жилая площадь от всей площади по всем домам?</b>",
      "metadata": {}
    },
    {
      "cell_type": "code",
      "source": "df['sqft_living'].mean()/df['sqft_lot'].mean() * 100, \"%\"",
      "metadata": {
        "trusted": true
      },
      "execution_count": 25,
      "outputs": [
        {
          "execution_count": 25,
          "output_type": "execute_result",
          "data": {
            "text/plain": "(13.76781757959227, '%')"
          },
          "metadata": {}
        }
      ]
    },
    {
      "cell_type": "markdown",
      "source": "<b>3.3 Как много домов с разными этажами в данных?</b>",
      "metadata": {}
    },
    {
      "cell_type": "code",
      "source": "df['floors'].value_counts()",
      "metadata": {
        "trusted": true
      },
      "execution_count": 26,
      "outputs": [
        {
          "execution_count": 26,
          "output_type": "execute_result",
          "data": {
            "text/plain": "1.0    10680\n2.0     8241\n1.5     1910\n3.0      613\n2.5      161\n3.5        8\nName: floors, dtype: int64"
          },
          "metadata": {}
        }
      ]
    },
    {
      "cell_type": "markdown",
      "source": "<b>3.4 Насколько хорошие состояния у домов в данных?</b>",
      "metadata": {}
    },
    {
      "cell_type": "code",
      "source": "df['condition'].value_counts()",
      "metadata": {
        "trusted": true
      },
      "execution_count": 27,
      "outputs": [
        {
          "execution_count": 27,
          "output_type": "execute_result",
          "data": {
            "text/plain": "3    14031\n4     5679\n5     1701\n2      172\n1       30\nName: condition, dtype: int64"
          },
          "metadata": {}
        }
      ]
    },
    {
      "cell_type": "markdown",
      "source": "<b>3.5 Найдите года, когда построили первый дом, когда построили последний дом в данных?</b>",
      "metadata": {}
    },
    {
      "cell_type": "code",
      "source": "df['yr_built'].min(), df['yr_built'].max()",
      "metadata": {
        "trusted": true
      },
      "execution_count": 28,
      "outputs": [
        {
          "execution_count": 28,
          "output_type": "execute_result",
          "data": {
            "text/plain": "(1900, 2015)"
          },
          "metadata": {}
        }
      ]
    },
    {
      "cell_type": "markdown",
      "source": "<h2>Условие 4: \n<br>4 задача \n<br>Ответьте на несколько вопросов</h2> \n<br>\n<b>4.1 Сколько в среднем стоят дома, у которых 2 спальни?</b>",
      "metadata": {}
    },
    {
      "cell_type": "code",
      "source": "df[df['bedrooms'] == 2]['price'].mean()",
      "metadata": {
        "trusted": true
      },
      "execution_count": 29,
      "outputs": [
        {
          "execution_count": 29,
          "output_type": "execute_result",
          "data": {
            "text/plain": "401372.681884058"
          },
          "metadata": {}
        }
      ]
    },
    {
      "cell_type": "markdown",
      "source": "<b>4.2 Какая в среднем общая площадь домов, у которых стоимость больше 600 000?</b>",
      "metadata": {}
    },
    {
      "cell_type": "code",
      "source": "df[df['price'] > 600000]['sqft_lot'].mean()",
      "metadata": {
        "trusted": true
      },
      "execution_count": 30,
      "outputs": [
        {
          "execution_count": 30,
          "output_type": "execute_result",
          "data": {
            "text/plain": "20442.524776214832"
          },
          "metadata": {}
        }
      ]
    },
    {
      "cell_type": "markdown",
      "source": "<b>4.3 Как много домов коснулся ремонт?</b>",
      "metadata": {}
    },
    {
      "cell_type": "code",
      "source": "df[(df['yr_renovated'] != 0)].shape[0]",
      "metadata": {
        "trusted": true
      },
      "execution_count": 31,
      "outputs": [
        {
          "execution_count": 31,
          "output_type": "execute_result",
          "data": {
            "text/plain": "914"
          },
          "metadata": {}
        }
      ]
    },
    {
      "cell_type": "markdown",
      "source": "<b>4.4 Насколько в среднем стоимость домов с оценкой grade домов выше 10 отличается от стоимости домов с оценкой grade меньше 4?</b>",
      "metadata": {}
    },
    {
      "cell_type": "markdown",
      "source": "Средняя цена домов с оценкой grade выше 10",
      "metadata": {}
    },
    {
      "cell_type": "code",
      "source": "price_10 = df[df['grade'] > 10]['price'].mean()\nprice_10",
      "metadata": {
        "trusted": true
      },
      "execution_count": 32,
      "outputs": [
        {
          "execution_count": 32,
          "output_type": "execute_result",
          "data": {
            "text/plain": "1678635.1175298805"
          },
          "metadata": {}
        }
      ]
    },
    {
      "cell_type": "markdown",
      "source": "Средняя цена домов с оценкой grade меньше 4",
      "metadata": {}
    },
    {
      "cell_type": "code",
      "source": "price_4 = df[df['grade'] < 4]['price'].mean()\nprice_4",
      "metadata": {
        "trusted": true
      },
      "execution_count": 33,
      "outputs": [
        {
          "execution_count": 33,
          "output_type": "execute_result",
          "data": {
            "text/plain": "189750.0"
          },
          "metadata": {}
        }
      ]
    },
    {
      "cell_type": "markdown",
      "source": "Размах цен",
      "metadata": {}
    },
    {
      "cell_type": "code",
      "source": "price_range = price_10 - price_4\nprint(price_range)",
      "metadata": {
        "trusted": true
      },
      "execution_count": 34,
      "outputs": [
        {
          "name": "stdout",
          "text": "1488885.1175298805\n",
          "output_type": "stream"
        }
      ]
    },
    {
      "cell_type": "markdown",
      "source": "<h2>Условие 5: \n<br>5 задача \n<br>Ответьте на несколько вопросов</h2>",
      "metadata": {}
    },
    {
      "cell_type": "markdown",
      "source": "<b>5.1 Выберите дом клиенту. Клиент хочет дом с видом на набережную, как минимум с тремя ванными и с подвалом. Сколько вариантов есть у клиента?</b>",
      "metadata": {}
    },
    {
      "cell_type": "code",
      "source": "df[(df['waterfront'] == 1) & (df['bathrooms'] >= 3) & (df['sqft_basement'] != 0)].shape[0]",
      "metadata": {
        "trusted": true
      },
      "execution_count": 35,
      "outputs": [
        {
          "execution_count": 35,
          "output_type": "execute_result",
          "data": {
            "text/plain": "41"
          },
          "metadata": {}
        }
      ]
    },
    {
      "cell_type": "markdown",
      "source": "<b>5.2 Выберите дом клиенту. Клиент хочет дом либо с очень красивым видом из окна, либо с видом на набережную, в очень хорошем состоянии и год постройки не меньше 1980 года. В какой ценовом диапазоне будут дома?</b>",
      "metadata": {}
    },
    {
      "cell_type": "code",
      "source": "benchmark2 = (df['view'] == 4) | (df['waterfront'] == 1) & (df['condition'] == 5) & (df['yr_built'] >= 1980)",
      "metadata": {
        "trusted": true
      },
      "execution_count": 36,
      "outputs": []
    },
    {
      "cell_type": "code",
      "source": "client_choice2 = df[benchmark2]",
      "metadata": {
        "trusted": true
      },
      "execution_count": 37,
      "outputs": []
    },
    {
      "cell_type": "code",
      "source": "client_choice2",
      "metadata": {
        "trusted": true
      },
      "execution_count": 38,
      "outputs": [
        {
          "execution_count": 38,
          "output_type": "execute_result",
          "data": {
            "text/plain": "               id             date      price  bedrooms  bathrooms  \\\n21     2524049179  20140826T000000  2000000.0         3       2.75   \n58     7922800400  20140827T000000   951000.0         5       3.25   \n230    8096000060  20150413T000000   655000.0         2       1.75   \n246    2025069065  20140929T000000  2400000.0         4       2.50   \n264    2123039032  20141027T000000   369900.0         1       0.75   \n...           ...              ...        ...       ...        ...   \n20767  8043700105  20150417T000000  2300000.0         4       4.00   \n20923  7852070210  20140527T000000  1149000.0         4       3.00   \n21050  2424059170  20150219T000000   900000.0         5       6.00   \n21201   518500460  20141008T000000  2230000.0         3       3.50   \n21576  9253900271  20150107T000000  3567000.0         5       4.50   \n\n       sqft_living  sqft_lot  floors  waterfront  view  ...  grade  \\\n21            3050     44867     1.0           0     4  ...      9   \n58            3250     14342     2.0           0     4  ...      8   \n230           1450     15798     2.0           1     4  ...      7   \n246           3650      8354     1.0           1     4  ...      9   \n264            760     10079     1.0           1     4  ...      5   \n...            ...       ...     ...         ...   ...  ...    ...   \n20767         4360      8175     2.5           1     4  ...     10   \n20923         5940     11533     2.0           0     4  ...     11   \n21050         7120     40806     2.0           0     4  ...     12   \n21201         3760      5634     2.0           1     4  ...     11   \n21576         4850     10584     2.0           1     4  ...     10   \n\n       sqft_above  sqft_basement  yr_built  yr_renovated  zipcode      lat  \\\n21         2330.0            720      1968             0    98040  47.5316   \n58         3250.0              0      1968             0    98008  47.5880   \n230        1230.0            220      1915          1978    98166  47.4497   \n246        1830.0           1820      2000             0    98074  47.6338   \n264         760.0              0      1936             0    98070  47.4683   \n...           ...            ...       ...           ...      ...      ...   \n20767      3940.0            420      2007             0    98008  47.5724   \n20923      4950.0            990      2004             0    98065  47.5443   \n21050      5480.0           1640      2007             0    98006  47.5451   \n21201      2830.0            930      2014             0    98056  47.5285   \n21576      3540.0           1310      2007             0    98008  47.5943   \n\n          long  sqft_living15  sqft_lot15  \n21    -122.233           4110       20336  \n58    -122.116           2960       11044  \n230   -122.375           2030       13193  \n246   -122.072           3120       18841  \n264   -122.438           1230       14267  \n...        ...            ...         ...  \n20767 -122.104           2670        8525  \n20923 -121.870           4240       12813  \n21050 -122.114           3440       36859  \n21201 -122.205           3560        5762  \n21576 -122.110           3470       18270  \n\n[319 rows x 21 columns]",
            "text/html": "<div>\n<style scoped>\n    .dataframe tbody tr th:only-of-type {\n        vertical-align: middle;\n    }\n\n    .dataframe tbody tr th {\n        vertical-align: top;\n    }\n\n    .dataframe thead th {\n        text-align: right;\n    }\n</style>\n<table border=\"1\" class=\"dataframe\">\n  <thead>\n    <tr style=\"text-align: right;\">\n      <th></th>\n      <th>id</th>\n      <th>date</th>\n      <th>price</th>\n      <th>bedrooms</th>\n      <th>bathrooms</th>\n      <th>sqft_living</th>\n      <th>sqft_lot</th>\n      <th>floors</th>\n      <th>waterfront</th>\n      <th>view</th>\n      <th>...</th>\n      <th>grade</th>\n      <th>sqft_above</th>\n      <th>sqft_basement</th>\n      <th>yr_built</th>\n      <th>yr_renovated</th>\n      <th>zipcode</th>\n      <th>lat</th>\n      <th>long</th>\n      <th>sqft_living15</th>\n      <th>sqft_lot15</th>\n    </tr>\n  </thead>\n  <tbody>\n    <tr>\n      <th>21</th>\n      <td>2524049179</td>\n      <td>20140826T000000</td>\n      <td>2000000.0</td>\n      <td>3</td>\n      <td>2.75</td>\n      <td>3050</td>\n      <td>44867</td>\n      <td>1.0</td>\n      <td>0</td>\n      <td>4</td>\n      <td>...</td>\n      <td>9</td>\n      <td>2330.0</td>\n      <td>720</td>\n      <td>1968</td>\n      <td>0</td>\n      <td>98040</td>\n      <td>47.5316</td>\n      <td>-122.233</td>\n      <td>4110</td>\n      <td>20336</td>\n    </tr>\n    <tr>\n      <th>58</th>\n      <td>7922800400</td>\n      <td>20140827T000000</td>\n      <td>951000.0</td>\n      <td>5</td>\n      <td>3.25</td>\n      <td>3250</td>\n      <td>14342</td>\n      <td>2.0</td>\n      <td>0</td>\n      <td>4</td>\n      <td>...</td>\n      <td>8</td>\n      <td>3250.0</td>\n      <td>0</td>\n      <td>1968</td>\n      <td>0</td>\n      <td>98008</td>\n      <td>47.5880</td>\n      <td>-122.116</td>\n      <td>2960</td>\n      <td>11044</td>\n    </tr>\n    <tr>\n      <th>230</th>\n      <td>8096000060</td>\n      <td>20150413T000000</td>\n      <td>655000.0</td>\n      <td>2</td>\n      <td>1.75</td>\n      <td>1450</td>\n      <td>15798</td>\n      <td>2.0</td>\n      <td>1</td>\n      <td>4</td>\n      <td>...</td>\n      <td>7</td>\n      <td>1230.0</td>\n      <td>220</td>\n      <td>1915</td>\n      <td>1978</td>\n      <td>98166</td>\n      <td>47.4497</td>\n      <td>-122.375</td>\n      <td>2030</td>\n      <td>13193</td>\n    </tr>\n    <tr>\n      <th>246</th>\n      <td>2025069065</td>\n      <td>20140929T000000</td>\n      <td>2400000.0</td>\n      <td>4</td>\n      <td>2.50</td>\n      <td>3650</td>\n      <td>8354</td>\n      <td>1.0</td>\n      <td>1</td>\n      <td>4</td>\n      <td>...</td>\n      <td>9</td>\n      <td>1830.0</td>\n      <td>1820</td>\n      <td>2000</td>\n      <td>0</td>\n      <td>98074</td>\n      <td>47.6338</td>\n      <td>-122.072</td>\n      <td>3120</td>\n      <td>18841</td>\n    </tr>\n    <tr>\n      <th>264</th>\n      <td>2123039032</td>\n      <td>20141027T000000</td>\n      <td>369900.0</td>\n      <td>1</td>\n      <td>0.75</td>\n      <td>760</td>\n      <td>10079</td>\n      <td>1.0</td>\n      <td>1</td>\n      <td>4</td>\n      <td>...</td>\n      <td>5</td>\n      <td>760.0</td>\n      <td>0</td>\n      <td>1936</td>\n      <td>0</td>\n      <td>98070</td>\n      <td>47.4683</td>\n      <td>-122.438</td>\n      <td>1230</td>\n      <td>14267</td>\n    </tr>\n    <tr>\n      <th>...</th>\n      <td>...</td>\n      <td>...</td>\n      <td>...</td>\n      <td>...</td>\n      <td>...</td>\n      <td>...</td>\n      <td>...</td>\n      <td>...</td>\n      <td>...</td>\n      <td>...</td>\n      <td>...</td>\n      <td>...</td>\n      <td>...</td>\n      <td>...</td>\n      <td>...</td>\n      <td>...</td>\n      <td>...</td>\n      <td>...</td>\n      <td>...</td>\n      <td>...</td>\n      <td>...</td>\n    </tr>\n    <tr>\n      <th>20767</th>\n      <td>8043700105</td>\n      <td>20150417T000000</td>\n      <td>2300000.0</td>\n      <td>4</td>\n      <td>4.00</td>\n      <td>4360</td>\n      <td>8175</td>\n      <td>2.5</td>\n      <td>1</td>\n      <td>4</td>\n      <td>...</td>\n      <td>10</td>\n      <td>3940.0</td>\n      <td>420</td>\n      <td>2007</td>\n      <td>0</td>\n      <td>98008</td>\n      <td>47.5724</td>\n      <td>-122.104</td>\n      <td>2670</td>\n      <td>8525</td>\n    </tr>\n    <tr>\n      <th>20923</th>\n      <td>7852070210</td>\n      <td>20140527T000000</td>\n      <td>1149000.0</td>\n      <td>4</td>\n      <td>3.00</td>\n      <td>5940</td>\n      <td>11533</td>\n      <td>2.0</td>\n      <td>0</td>\n      <td>4</td>\n      <td>...</td>\n      <td>11</td>\n      <td>4950.0</td>\n      <td>990</td>\n      <td>2004</td>\n      <td>0</td>\n      <td>98065</td>\n      <td>47.5443</td>\n      <td>-121.870</td>\n      <td>4240</td>\n      <td>12813</td>\n    </tr>\n    <tr>\n      <th>21050</th>\n      <td>2424059170</td>\n      <td>20150219T000000</td>\n      <td>900000.0</td>\n      <td>5</td>\n      <td>6.00</td>\n      <td>7120</td>\n      <td>40806</td>\n      <td>2.0</td>\n      <td>0</td>\n      <td>4</td>\n      <td>...</td>\n      <td>12</td>\n      <td>5480.0</td>\n      <td>1640</td>\n      <td>2007</td>\n      <td>0</td>\n      <td>98006</td>\n      <td>47.5451</td>\n      <td>-122.114</td>\n      <td>3440</td>\n      <td>36859</td>\n    </tr>\n    <tr>\n      <th>21201</th>\n      <td>518500460</td>\n      <td>20141008T000000</td>\n      <td>2230000.0</td>\n      <td>3</td>\n      <td>3.50</td>\n      <td>3760</td>\n      <td>5634</td>\n      <td>2.0</td>\n      <td>1</td>\n      <td>4</td>\n      <td>...</td>\n      <td>11</td>\n      <td>2830.0</td>\n      <td>930</td>\n      <td>2014</td>\n      <td>0</td>\n      <td>98056</td>\n      <td>47.5285</td>\n      <td>-122.205</td>\n      <td>3560</td>\n      <td>5762</td>\n    </tr>\n    <tr>\n      <th>21576</th>\n      <td>9253900271</td>\n      <td>20150107T000000</td>\n      <td>3567000.0</td>\n      <td>5</td>\n      <td>4.50</td>\n      <td>4850</td>\n      <td>10584</td>\n      <td>2.0</td>\n      <td>1</td>\n      <td>4</td>\n      <td>...</td>\n      <td>10</td>\n      <td>3540.0</td>\n      <td>1310</td>\n      <td>2007</td>\n      <td>0</td>\n      <td>98008</td>\n      <td>47.5943</td>\n      <td>-122.110</td>\n      <td>3470</td>\n      <td>18270</td>\n    </tr>\n  </tbody>\n</table>\n<p>319 rows × 21 columns</p>\n</div>"
          },
          "metadata": {}
        }
      ]
    },
    {
      "cell_type": "markdown",
      "source": "Размах цен",
      "metadata": {}
    },
    {
      "cell_type": "code",
      "source": "client_choice2['price'].min(), client_choice2['price'].max()",
      "metadata": {
        "trusted": true
      },
      "execution_count": 39,
      "outputs": [
        {
          "execution_count": 39,
          "output_type": "execute_result",
          "data": {
            "text/plain": "(252000.0, 6885000.0)"
          },
          "metadata": {}
        }
      ]
    },
    {
      "cell_type": "markdown",
      "source": "<b>5.3 Выберите дом клиенту. Клиент хочет дом без подвала, с двумя этажами, стоимостью до 150000. Какая оценка по состоянию у таких домов в среднем?</b>",
      "metadata": {}
    },
    {
      "cell_type": "markdown",
      "source": " Клиент хочет дом без подвала, с двумя этажами, стоимостью до 150000.",
      "metadata": {}
    },
    {
      "cell_type": "code",
      "source": "benchmark3 = (df['sqft_basement'] == 0) & (df['floors'] == 2) & (df['price'] <= 150000)",
      "metadata": {
        "trusted": true
      },
      "execution_count": 40,
      "outputs": []
    },
    {
      "cell_type": "code",
      "source": "client_choice3 = df[benchmark3]",
      "metadata": {
        "trusted": true
      },
      "execution_count": 41,
      "outputs": []
    },
    {
      "cell_type": "code",
      "source": "client_choice3",
      "metadata": {
        "trusted": true
      },
      "execution_count": 42,
      "outputs": [
        {
          "execution_count": 42,
          "output_type": "execute_result",
          "data": {
            "text/plain": "               id             date     price  bedrooms  bathrooms  \\\n2589   5061300030  20140508T000000  134000.0         2       1.50   \n10105  5466310060  20150324T000000  139500.0         2       1.50   \n11255  1843200350  20140722T000000  150000.0         2       1.50   \n15610  7614100080  20150211T000000  140000.0         3       1.75   \n18332  9272202260  20140924T000000  130000.0         3       1.00   \n18939  4239400300  20141129T000000   90000.0         3       1.00   \n18988  7399100210  20141126T000000  140000.0         3       1.50   \n\n       sqft_living  sqft_lot  floors  waterfront  view  ...  grade  \\\n2589           980      5000     2.0           0     0  ...      7   \n10105         1230      1561     2.0           0     0  ...      7   \n11255         1360      1934     2.0           0     0  ...      7   \n15610         1270      8991     2.0           0     0  ...      7   \n18332         1200      7000     2.0           0     0  ...      7   \n18939          980      2490     2.0           0     0  ...      6   \n18988         1200      2002     2.0           0     0  ...      8   \n\n       sqft_above  sqft_basement  yr_built  yr_renovated  zipcode      lat  \\\n2589        980.0              0      1922          2003    98014  47.7076   \n10105      1230.0              0      1983             0    98042  47.3768   \n11255      1360.0              0      1978             0    98092  47.2857   \n15610      1270.0              0      1981             0    98042  47.3563   \n18332      1200.0              0      1908             0    98116  47.5883   \n18939       980.0              0      1969             0    98092  47.3170   \n18988      1200.0              0      1966             0    98055  47.4659   \n\n          long  sqft_living15  sqft_lot15  \n2589  -121.359           1040        5000  \n10105 -122.149           1660        2243  \n11255 -122.189           1360        1898  \n15610 -122.149           1270        8993  \n18332 -122.384           3290        6000  \n18939 -122.182            980        3154  \n18988 -122.189           1270        1848  \n\n[7 rows x 21 columns]",
            "text/html": "<div>\n<style scoped>\n    .dataframe tbody tr th:only-of-type {\n        vertical-align: middle;\n    }\n\n    .dataframe tbody tr th {\n        vertical-align: top;\n    }\n\n    .dataframe thead th {\n        text-align: right;\n    }\n</style>\n<table border=\"1\" class=\"dataframe\">\n  <thead>\n    <tr style=\"text-align: right;\">\n      <th></th>\n      <th>id</th>\n      <th>date</th>\n      <th>price</th>\n      <th>bedrooms</th>\n      <th>bathrooms</th>\n      <th>sqft_living</th>\n      <th>sqft_lot</th>\n      <th>floors</th>\n      <th>waterfront</th>\n      <th>view</th>\n      <th>...</th>\n      <th>grade</th>\n      <th>sqft_above</th>\n      <th>sqft_basement</th>\n      <th>yr_built</th>\n      <th>yr_renovated</th>\n      <th>zipcode</th>\n      <th>lat</th>\n      <th>long</th>\n      <th>sqft_living15</th>\n      <th>sqft_lot15</th>\n    </tr>\n  </thead>\n  <tbody>\n    <tr>\n      <th>2589</th>\n      <td>5061300030</td>\n      <td>20140508T000000</td>\n      <td>134000.0</td>\n      <td>2</td>\n      <td>1.50</td>\n      <td>980</td>\n      <td>5000</td>\n      <td>2.0</td>\n      <td>0</td>\n      <td>0</td>\n      <td>...</td>\n      <td>7</td>\n      <td>980.0</td>\n      <td>0</td>\n      <td>1922</td>\n      <td>2003</td>\n      <td>98014</td>\n      <td>47.7076</td>\n      <td>-121.359</td>\n      <td>1040</td>\n      <td>5000</td>\n    </tr>\n    <tr>\n      <th>10105</th>\n      <td>5466310060</td>\n      <td>20150324T000000</td>\n      <td>139500.0</td>\n      <td>2</td>\n      <td>1.50</td>\n      <td>1230</td>\n      <td>1561</td>\n      <td>2.0</td>\n      <td>0</td>\n      <td>0</td>\n      <td>...</td>\n      <td>7</td>\n      <td>1230.0</td>\n      <td>0</td>\n      <td>1983</td>\n      <td>0</td>\n      <td>98042</td>\n      <td>47.3768</td>\n      <td>-122.149</td>\n      <td>1660</td>\n      <td>2243</td>\n    </tr>\n    <tr>\n      <th>11255</th>\n      <td>1843200350</td>\n      <td>20140722T000000</td>\n      <td>150000.0</td>\n      <td>2</td>\n      <td>1.50</td>\n      <td>1360</td>\n      <td>1934</td>\n      <td>2.0</td>\n      <td>0</td>\n      <td>0</td>\n      <td>...</td>\n      <td>7</td>\n      <td>1360.0</td>\n      <td>0</td>\n      <td>1978</td>\n      <td>0</td>\n      <td>98092</td>\n      <td>47.2857</td>\n      <td>-122.189</td>\n      <td>1360</td>\n      <td>1898</td>\n    </tr>\n    <tr>\n      <th>15610</th>\n      <td>7614100080</td>\n      <td>20150211T000000</td>\n      <td>140000.0</td>\n      <td>3</td>\n      <td>1.75</td>\n      <td>1270</td>\n      <td>8991</td>\n      <td>2.0</td>\n      <td>0</td>\n      <td>0</td>\n      <td>...</td>\n      <td>7</td>\n      <td>1270.0</td>\n      <td>0</td>\n      <td>1981</td>\n      <td>0</td>\n      <td>98042</td>\n      <td>47.3563</td>\n      <td>-122.149</td>\n      <td>1270</td>\n      <td>8993</td>\n    </tr>\n    <tr>\n      <th>18332</th>\n      <td>9272202260</td>\n      <td>20140924T000000</td>\n      <td>130000.0</td>\n      <td>3</td>\n      <td>1.00</td>\n      <td>1200</td>\n      <td>7000</td>\n      <td>2.0</td>\n      <td>0</td>\n      <td>0</td>\n      <td>...</td>\n      <td>7</td>\n      <td>1200.0</td>\n      <td>0</td>\n      <td>1908</td>\n      <td>0</td>\n      <td>98116</td>\n      <td>47.5883</td>\n      <td>-122.384</td>\n      <td>3290</td>\n      <td>6000</td>\n    </tr>\n    <tr>\n      <th>18939</th>\n      <td>4239400300</td>\n      <td>20141129T000000</td>\n      <td>90000.0</td>\n      <td>3</td>\n      <td>1.00</td>\n      <td>980</td>\n      <td>2490</td>\n      <td>2.0</td>\n      <td>0</td>\n      <td>0</td>\n      <td>...</td>\n      <td>6</td>\n      <td>980.0</td>\n      <td>0</td>\n      <td>1969</td>\n      <td>0</td>\n      <td>98092</td>\n      <td>47.3170</td>\n      <td>-122.182</td>\n      <td>980</td>\n      <td>3154</td>\n    </tr>\n    <tr>\n      <th>18988</th>\n      <td>7399100210</td>\n      <td>20141126T000000</td>\n      <td>140000.0</td>\n      <td>3</td>\n      <td>1.50</td>\n      <td>1200</td>\n      <td>2002</td>\n      <td>2.0</td>\n      <td>0</td>\n      <td>0</td>\n      <td>...</td>\n      <td>8</td>\n      <td>1200.0</td>\n      <td>0</td>\n      <td>1966</td>\n      <td>0</td>\n      <td>98055</td>\n      <td>47.4659</td>\n      <td>-122.189</td>\n      <td>1270</td>\n      <td>1848</td>\n    </tr>\n  </tbody>\n</table>\n<p>7 rows × 21 columns</p>\n</div>"
          },
          "metadata": {}
        }
      ]
    },
    {
      "cell_type": "markdown",
      "source": "Средняя оценка по состоянию у таких домов",
      "metadata": {}
    },
    {
      "cell_type": "markdown",
      "source": "df[benchmark3]['condition'].mean()",
      "metadata": {}
    },
    {
      "cell_type": "code",
      "source": "",
      "metadata": {},
      "execution_count": null,
      "outputs": []
    }
  ]
}
